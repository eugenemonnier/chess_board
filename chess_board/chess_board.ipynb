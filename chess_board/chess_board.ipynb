{
 "cells": [
  {
   "cell_type": "markdown",
   "metadata": {},
   "source": [
    "# Chess Board with Queen Attack Logic"
   ]
  },
  {
   "cell_type": "code",
   "execution_count": 1,
   "metadata": {},
   "outputs": [],
   "source": [
    "import numpy as np"
   ]
  },
  {
   "cell_type": "code",
   "execution_count": 2,
   "metadata": {},
   "outputs": [],
   "source": [
    "import matplotlib.pyplot as plt"
   ]
  },
  {
   "cell_type": "markdown",
   "metadata": {},
   "source": [
    "## ChessBoard Class\n",
    "### Methods\n",
    "\n",
    "#### render()\n",
    "- renders the board\n",
    "\n",
    "#### start()\n",
    "- sets board grid values to black and white\n",
    "\n",
    "#### is_under_attack()\n",
    "- checks if blue queen can attack red queen"
   ]
  },
  {
   "cell_type": "code",
   "execution_count": 3,
   "metadata": {},
   "outputs": [],
   "source": [
    "class ChessBoard:\n",
    "    \n",
    "    white = (1,1,1)\n",
    "    red = (1,.2,0)\n",
    "    blue = (.1,.1,1)\n",
    "    \n",
    "    # Queen cordinates\n",
    "    red_x = None\n",
    "    red_y = None\n",
    "    blue_x = None\n",
    "    blue_y = None\n",
    "    \n",
    "    def __init__(self):\n",
    "        pass\n",
    "\n",
    "    def render(self):\n",
    "        plt.imshow(self.grid)\n",
    "    \n",
    "    def start(self):\n",
    "        self.grid = np.zeros((8,8,3))\n",
    "        for i in range(0,8,2):\n",
    "            board.grid[i + 0][::2] = board.white\n",
    "            board.grid[i + 1][1::2] = board.white\n",
    "            \n",
    "    def add_red(self):\n",
    "        self.red_x = int(input('Red queen X axis: '))\n",
    "        self.red_y = int(input('Red queen Y axis: '))\n",
    "        \n",
    "    def add_blue(self):\n",
    "        self.blue_x = int(input('Blue queen X axis: '))\n",
    "        self.blue_y = int(input('Blue queen Y axis: '))\n",
    "            \n",
    "    def is_under_attack(self, blue, red):\n",
    "        if abs(blue.x - red.x) == abs(blue.y - red.y) or blue.x == red.x or blue.y == red.y:\n",
    "            return 'Under Attack!'\n",
    "        else:\n",
    "            return 'Not Under Attack'\n"
   ]
  },
  {
   "cell_type": "markdown",
   "metadata": {},
   "source": [
    "## Queen Class\n",
    "- initializes with x & y attributes set to None"
   ]
  },
  {
   "cell_type": "code",
   "execution_count": 4,
   "metadata": {},
   "outputs": [],
   "source": [
    "class Queen:\n",
    "    def __init__(self):\n",
    "        x = None\n",
    "        y = None"
   ]
  },
  {
   "cell_type": "markdown",
   "metadata": {},
   "source": [
    "## Initialize\n",
    "-Initialize blue and red Queen instances\n",
    "-Initialize and render board"
   ]
  },
  {
   "cell_type": "code",
   "execution_count": 5,
   "metadata": {},
   "outputs": [
    {
     "data": {
      "image/png": "[encoded data removed]",
      "text/plain": [
       "<Figure size 432x288 with 1 Axes>"
      ]
     },
     "metadata": {
      "needs_background": "light"
     },
     "output_type": "display_data"
    }
   ],
   "source": [
    "blue = Queen()\n",
    "red = Queen()\n",
    "\n",
    "board = ChessBoard() \n",
    "board.start()\n",
    "board.render()"
   ]
  },
  {
   "cell_type": "markdown",
   "metadata": {},
   "source": [
    "## is_under_attack Acceptance Test (true, horizontal)\n",
    "- Should be under attack"
   ]
  },
  {
   "cell_type": "code",
   "execution_count": 6,
   "metadata": {},
   "outputs": [
    {
     "name": "stdout",
     "output_type": "stream",
     "text": [
      "Under Attack!\n"
     ]
    },
    {
     "data": {
      "image/png": "[encoded data removed]",
      "text/plain": [
       "<Figure size 432x288 with 1 Axes>"
      ]
     },
     "metadata": {
      "needs_background": "light"
     },
     "output_type": "display_data"
    }
   ],
   "source": [
    "red.x = 0\n",
    "red.y = 6\n",
    "blue.x = 5\n",
    "blue.y = 6\n",
    "\n",
    "board.grid[red.y][red.x] = board.red\n",
    "board.grid[blue.y][blue.x] = board.blue\n",
    "board.render()\n",
    "print(board.is_under_attack(blue,red))\n",
    "actual = board.is_under_attack(blue,red)\n",
    "expected = 'Under Attack!'\n",
    "assert actual == expected"
   ]
  },
  {
   "cell_type": "markdown",
   "metadata": {},
   "source": [
    "## is_under_attack Acceptance Test (true, diagonal)\n",
    "- Should be under attack"
   ]
  },
  {
   "cell_type": "code",
   "execution_count": 7,
   "metadata": {},
   "outputs": [
    {
     "name": "stdout",
     "output_type": "stream",
     "text": [
      "Under Attack!\n"
     ]
    },
    {
     "data": {
      "image/png": "[encoded data removed]",
      "text/plain": [
       "<Figure size 432x288 with 1 Axes>"
      ]
     },
     "metadata": {
      "needs_background": "light"
     },
     "output_type": "display_data"
    }
   ],
   "source": [
    "blue.x = 4\n",
    "blue.y = 2\n",
    "\n",
    "board.start()\n",
    "board.grid[blue.y][blue.x] = board.blue\n",
    "board.grid[red.y][red.x] = board.red\n",
    "board.render()\n",
    "print(board.is_under_attack(blue,red))\n",
    "actual = board.is_under_attack(blue,red)\n",
    "expected = 'Under Attack!'\n",
    "assert actual == expected"
   ]
  },
  {
   "cell_type": "markdown",
   "metadata": {},
   "source": [
    "## is_under_attack Acceptance Test (true, vertical)\n",
    "- Should be under attack"
   ]
  },
  {
   "cell_type": "code",
   "execution_count": 8,
   "metadata": {},
   "outputs": [
    {
     "name": "stdout",
     "output_type": "stream",
     "text": [
      "Under Attack!\n"
     ]
    },
    {
     "data": {
      "image/png": "[encoded data removed]",
      "text/plain": [
       "<Figure size 432x288 with 1 Axes>"
      ]
     },
     "metadata": {
      "needs_background": "light"
     },
     "output_type": "display_data"
    }
   ],
   "source": [
    "red.x = 4\n",
    "\n",
    "board.start()\n",
    "board.grid[blue.y][blue.x] = board.blue\n",
    "board.grid[red.y][red.x] = board.red\n",
    "board.render()\n",
    "print(board.is_under_attack(blue,red))\n",
    "actual = board.is_under_attack(blue,red)\n",
    "expected = 'Under Attack!'\n",
    "assert actual == expected"
   ]
  },
  {
   "cell_type": "markdown",
   "metadata": {},
   "source": [
    "## is_under_attack Acceptance Test (false)\n",
    "- Should be under attack"
   ]
  },
  {
   "cell_type": "code",
   "execution_count": 9,
   "metadata": {},
   "outputs": [
    {
     "name": "stdout",
     "output_type": "stream",
     "text": [
      "Not Under Attack\n"
     ]
    },
    {
     "data": {
      "image/png": "[encoded data removed]",
      "text/plain": [
       "<Figure size 432x288 with 1 Axes>"
      ]
     },
     "metadata": {
      "needs_background": "light"
     },
     "output_type": "display_data"
    }
   ],
   "source": [
    "red.x = 5\n",
    "\n",
    "board.start()\n",
    "board.grid[blue.y][blue.x] = board.blue\n",
    "board.grid[red.y][red.x] = board.red\n",
    "board.render()\n",
    "print(board.is_under_attack(blue,red))\n",
    "actual = board.is_under_attack(blue,red)\n",
    "expected = 'Not Under Attack'\n",
    "assert actual == expected"
   ]
  },
  {
   "cell_type": "markdown",
   "metadata": {},
   "source": [
    "## add_red Acceptance Test\n",
    "- requests x & y input for red queen and renders it on the board"
   ]
  },
  {
   "cell_type": "code",
   "execution_count": 15,
   "metadata": {},
   "outputs": [
    {
     "name": "stdin",
     "output_type": "stream",
     "text": [
      "Red queen X axis:  7\n",
      "Red queen Y axis:  7\n"
     ]
    },
    {
     "name": "stdout",
     "output_type": "stream",
     "text": [
      "X coordinate: 7 | Y coordinate: 7\n"
     ]
    },
    {
     "data": {
      "image/png": "[encoded data removed]",
      "text/plain": [
       "<Figure size 432x288 with 1 Axes>"
      ]
     },
     "metadata": {
      "needs_background": "light"
     },
     "output_type": "display_data"
    }
   ],
   "source": [
    "board.add_red()\n",
    "board.start()\n",
    "board.grid[board.red_y][board.red_x] = board.red\n",
    "print('X coordinate: '+ str(board.red_x) + ' | Y coordinate: ' + str(board.red_y))\n",
    "board.render()"
   ]
  },
  {
   "cell_type": "markdown",
   "metadata": {},
   "source": [
    "## add_blue Acceptance Test\n",
    "- requests x & y input for blue queen and renders it on the board"
   ]
  },
  {
   "cell_type": "code",
   "execution_count": 17,
   "metadata": {},
   "outputs": [
    {
     "name": "stdin",
     "output_type": "stream",
     "text": [
      "Blue queen X axis:  3\n",
      "Blue queen Y axis:  2\n"
     ]
    },
    {
     "name": "stdout",
     "output_type": "stream",
     "text": [
      "X coordinate: 3 | Y coordinate: 2\n"
     ]
    },
    {
     "data": {
      "image/png": "[encoded data removed]",
      "text/plain": [
       "<Figure size 432x288 with 1 Axes>"
      ]
     },
     "metadata": {
      "needs_background": "light"
     },
     "output_type": "display_data"
    }
   ],
   "source": [
    "board.add_blue()\n",
    "board.start()\n",
    "board.grid[board.blue_y][board.blue_x] = board.blue\n",
    "print('X coordinate: '+ str(board.blue_x) + ' | Y coordinate: ' + str(board.blue_y))\n",
    "board.render()"
   ]
  },
  {
   "cell_type": "code",
   "execution_count": null,
   "metadata": {},
   "outputs": [],
   "source": []
  }
 ],
 "metadata": {
  "kernelspec": {
   "display_name": "Python 3",
   "language": "python",
   "name": "python3"
  },
  "language_info": {
   "codemirror_mode": {
    "name": "ipython",
    "version": 3
   },
   "file_extension": ".py",
   "mimetype": "text/x-python",
   "name": "python",
   "nbconvert_exporter": "python",
   "pygments_lexer": "ipython3",
   "version": "3.8.2"
  }
 },
 "nbformat": 4,
 "nbformat_minor": 4
}
